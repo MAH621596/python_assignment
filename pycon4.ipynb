{
 "cells": [
  {
   "cell_type": "code",
   "execution_count": 16,
   "metadata": {},
   "outputs": [
    {
     "name": "stdout",
     "output_type": "stream",
     "text": [
      "HUDA\n",
      "KHAN\n",
      "26\n",
      "karachi\n"
     ]
    }
   ],
   "source": [
    "customer = {\"first name\": \"HUDA\", \"last name\": \"KHAN\", \"age\": \"26\", \"city\" :\"karachi\"}\n",
    "print(customer[\"first name\"])\n",
    "print(customer[\"last name\"])\n",
    "print(customer[\"age\"])\n",
    "print(customer[\"city\"])"
   ]
  },
  {
   "cell_type": "code",
   "execution_count": 20,
   "metadata": {},
   "outputs": [
    {
     "name": "stdout",
     "output_type": "stream",
     "text": [
      "{'first name': 'HUDA', 'last name': 'KHAN', 'age': '26', 'city': 'karachi', 'Qualification': 'Academic level'}\n",
      "{'first name': 'HUDA', 'last name': 'KHAN', 'age': '26', 'city': 'karachi'}\n"
     ]
    }
   ],
   "source": [
    "customer = {\"first name\": \"HUDA\", \"last name\": \"KHAN\", \"age\": \"26\", \"city\" :\"karachi\"}\n",
    "customer[\"Qualification\"] = \"Academic level\"\n",
    "print(customer)\n",
    "del customer[\"Qualification\"]\n",
    "print(customer)"
   ]
  },
  {
   "cell_type": "code",
   "execution_count": 21,
   "metadata": {},
   "outputs": [
    {
     "ename": "TypeError",
     "evalue": "unhashable type: 'dict'",
     "output_type": "error",
     "traceback": [
      "\u001b[1;31m---------------------------------------------------------------------------\u001b[0m",
      "\u001b[1;31mTypeError\u001b[0m                                 Traceback (most recent call last)",
      "\u001b[1;32m<ipython-input-21-3eefe9344aa7>\u001b[0m in \u001b[0;36m<module>\u001b[1;34m\u001b[0m\n\u001b[0;32m     17\u001b[0m        \u001b[1;34m\"country\"\u001b[0m \u001b[1;33m:\u001b[0m \u001b[1;34m\"pakistan\"\u001b[0m\u001b[1;33m,\u001b[0m\u001b[1;33m\u001b[0m\u001b[1;33m\u001b[0m\u001b[0m\n\u001b[0;32m     18\u001b[0m        \u001b[1;34m\"population\"\u001b[0m \u001b[1;33m:\u001b[0m \u001b[1;34m\"2,133,000\"\u001b[0m\u001b[1;33m,\u001b[0m\u001b[1;33m\u001b[0m\u001b[1;33m\u001b[0m\u001b[0m\n\u001b[1;32m---> 19\u001b[1;33m        \u001b[1;34m\"fact\"\u001b[0m \u001b[1;33m:\u001b[0m \u001b[1;34m\"biggest city of KPK\"\u001b[0m\u001b[1;33m,\u001b[0m\u001b[1;33m\u001b[0m\u001b[1;33m\u001b[0m\u001b[0m\n\u001b[0m\u001b[0;32m     20\u001b[0m     },     \n\u001b[0;32m     21\u001b[0m }\n",
      "\u001b[1;31mTypeError\u001b[0m: unhashable type: 'dict'"
     ]
    }
   ],
   "source": [
    "cities = {  \n",
    "    {   \n",
    "       \"karachi\" :  0 , \n",
    "       \"country\" : \"pakistan\",\n",
    "       \"population\" : \"15,741,000\",\n",
    "       \"fact\" : \"largest city of pakistan\",\n",
    "    },\n",
    "    {\n",
    "       \"lahore\" :  1 , \n",
    "       \"country\" : \"pakistan\",\n",
    "       \"population\": \"12,188,000\",\n",
    "       \"fact\" : \"largest provincial capital of punjab\",\n",
    "    \n",
    "    },\n",
    "    {   \n",
    "       \"peshawar\" :  3 , \n",
    "       \"country\" : \"pakistan\",\n",
    "       \"population\" : \"2,133,000\",\n",
    "       \"fact\" : \"biggest city of KPK\",\n",
    "    },     \n",
    "}\n",
    "print(cities)"
   ]
  },
  {
   "cell_type": "code",
   "execution_count": 26,
   "metadata": {},
   "outputs": [
    {
     "name": "stdout",
     "output_type": "stream",
     "text": [
      "    \n"
     ]
    }
   ],
   "source": []
  },
  {
   "cell_type": "code",
   "execution_count": 25,
   "metadata": {},
   "outputs": [
    {
     "name": "stdout",
     "output_type": "stream",
     "text": [
      "\n",
      "How old are you?\n",
      "Enter 'quit' to finish. \n",
      ":77\n",
      "Ticket price is: 15$\n",
      "\n",
      "How old are you?\n",
      "Enter 'quit' to finish. \n",
      ":quit\n"
     ]
    }
   ],
   "source": [
    "prompt = \"\\nHow old are you?\"\n",
    "prompt += \"\\nEnter 'quit' to finish. \\n:\"\n",
    "message = 'Ticket price is: '\n",
    "\n",
    "while True:\n",
    "    age = input(prompt)\n",
    "    if age == 'quit':\n",
    "        break\n",
    "    age = int(age)\n",
    "\n",
    "    if age < 3:\n",
    "        print(message + \"0$.\")\n",
    "    elif age < 13:\n",
    "        print(message + \"10$.\")\n",
    "    else:\n",
    "        print(message + \"15$\")"
   ]
  },
  {
   "cell_type": "code",
   "execution_count": 36,
   "metadata": {},
   "outputs": [
    {
     "name": "stdout",
     "output_type": "stream",
     "text": [
      "ALice in Wonderland is one of my favorite books...\n"
     ]
    }
   ],
   "source": [
    "def favorite_book(title):\n",
    "    print(title + \" is one of my favorite books...\")\n",
    "    \n",
    "favorite_book('ALice in Wonderland')\n"
   ]
  },
  {
   "cell_type": "markdown",
   "metadata": {},
   "source": [
    "\n",
    "\n",
    "import random\n",
    "\n",
    "\n",
    "\n",
    "guessesTaken = 0\n",
    "\n",
    "print('Hello! What is your name?')\n",
    "\n",
    "myName = input()\n",
    "\n",
    "\n",
    "\n",
    "number = random.randint(1, 30)\n",
    "\n",
    "print('Well, ' + myName + ', I am thinking of a number between 1 and 30.')\n",
    "\n",
    "\n",
    "while guessesTaken < 6:\n",
    "\n",
    "    print('Take a guess.') # There are four spaces in front of print.\n",
    "    guess = input()\n",
    "\n",
    "    guess = int(guess)\n",
    "\n",
    "\n",
    "    guessesTaken = guessesTaken + 1\n",
    "\n",
    "\n",
    "\n",
    "    if guess < number:\n",
    "\n",
    "        print('Your guess is too low.') # There are eight spaces in front of print.\n",
    "\n",
    "\n",
    "\n",
    "    if guess > number:\n",
    "\n",
    "        print('Your guess is too high.')\n",
    "\n",
    "\n",
    "    if guess == number:\n",
    "        break\n",
    "\n",
    "\n",
    "if guess == number:\n",
    "\n",
    "    guessesTaken = str(guessesTaken)\n",
    "\n",
    "    print('Good job, ' + myName + '! You guessed my number in ' + guessesTaken + ' guesses!')\n",
    "\n",
    "\n",
    "\n",
    "if guess != number:\n",
    "\n",
    "    number = str(number)\n",
    "\n",
    "    print('Nope. The number I was thinking of was ' + number)\n"
   ]
  },
  {
   "cell_type": "code",
   "execution_count": null,
   "metadata": {},
   "outputs": [
    {
     "name": "stdout",
     "output_type": "stream",
     "text": [
      "Hello! What is your name?\n",
      "MAHRUKH\n",
      "Well, MAHRUKH, I am thinking of a number between 1 and 30.\n",
      "Take a guess.\n",
      "6\n",
      "Your guess is too low.\n",
      "Take a guess.\n",
      "5\n",
      "Your guess is too low.\n",
      "Take a guess.\n",
      "19\n",
      "Your guess is too low.\n",
      "Take a guess.\n",
      "1\n",
      "Your guess is too low.\n",
      "Take a guess.\n",
      "29\n",
      "Your guess is too high.\n",
      "Take a guess.\n"
     ]
    }
   ],
   "source": [
    "\n",
    "\n",
    "import random\n",
    "\n",
    "\n",
    "\n",
    "guessesTaken = 0\n",
    "\n",
    "print('Hello! What is your name?')\n",
    "\n",
    "myName = input()\n",
    "\n",
    "\n",
    "\n",
    "number = random.randint(1, 30)\n",
    "\n",
    "print('Well, ' + myName + ', I am thinking of a number between 1 and 30.')\n",
    "\n",
    "\n",
    "while guessesTaken < 6:\n",
    "\n",
    "    print('Take a guess.') # There are four spaces in front of print.\n",
    "    guess = input()\n",
    "\n",
    "    guess = int(guess)\n",
    "\n",
    "\n",
    "    guessesTaken = guessesTaken + 1\n",
    "\n",
    "\n",
    "\n",
    "    if guess < number:\n",
    "\n",
    "        print('Your guess is too low.') # There are eight spaces in front of print.\n",
    "\n",
    "\n",
    "\n",
    "    if guess > number:\n",
    "\n",
    "        print('Your guess is too high.')\n",
    "\n",
    "\n",
    "    if guess == number:\n",
    "        break\n",
    "\n",
    "\n",
    "if guess == number:\n",
    "\n",
    "    guessesTaken = str(guessesTaken)\n",
    "\n",
    "    print('Good job, ' + myName + '! You guessed my number in ' + guessesTaken + ' guesses!')\n",
    "\n",
    "\n",
    "\n",
    "if guess != number:\n",
    "\n",
    "    number = str(number)\n",
    "\n",
    "    print('Nope. The number I was thinking of was ' + number)\n"
   ]
  },
  {
   "cell_type": "code",
   "execution_count": null,
   "metadata": {},
   "outputs": [],
   "source": []
  }
 ],
 "metadata": {
  "kernelspec": {
   "display_name": "Python 3",
   "language": "python",
   "name": "python3"
  },
  "language_info": {
   "codemirror_mode": {
    "name": "ipython",
    "version": 3
   },
   "file_extension": ".py",
   "mimetype": "text/x-python",
   "name": "python",
   "nbconvert_exporter": "python",
   "pygments_lexer": "ipython3",
   "version": "3.7.4"
  }
 },
 "nbformat": 4,
 "nbformat_minor": 2
}
